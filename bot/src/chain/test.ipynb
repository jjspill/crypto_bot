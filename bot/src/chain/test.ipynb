{
 "cells": [
  {
   "cell_type": "code",
   "execution_count": 5,
   "metadata": {},
   "outputs": [
    {
     "name": "stdout",
     "output_type": "stream",
     "text": [
      "Current Working Directory: /Users/jamesspillmann/Desktop/aaa/projects/crypto_trader/bot/src/chain\n",
      "219\n"
     ]
    }
   ],
   "source": [
    "import os\n",
    "\n",
    "from langchain_community.document_loaders import PyPDFLoader\n",
    "\n",
    "file_path = \"BinanceUSDocs.pdf\"\n",
    "loader = PyPDFLoader(file_path)\n",
    "\n",
    "docs = loader.load()\n",
    "print(len(docs))"
   ]
  },
  {
   "cell_type": "code",
   "execution_count": 8,
   "metadata": {},
   "outputs": [],
   "source": [
    "import getpass\n",
    "import os\n",
    "\n",
    "os.environ[\"OPENAI_API_KEY\"] = getpass.getpass()\n",
    "\n",
    "from langchain_openai import ChatOpenAI\n",
    "\n",
    "llm = ChatOpenAI(model=\"gpt-4o\")"
   ]
  },
  {
   "cell_type": "code",
   "execution_count": 9,
   "metadata": {},
   "outputs": [],
   "source": [
    "from langchain_chroma import Chroma\n",
    "from langchain_openai import OpenAIEmbeddings\n",
    "from langchain_text_splitters import RecursiveCharacterTextSplitter\n",
    "\n",
    "text_splitter = RecursiveCharacterTextSplitter(chunk_size=1000, chunk_overlap=200)\n",
    "splits = text_splitter.split_documents(docs)\n",
    "vectorstore = Chroma.from_documents(documents=splits, embedding=OpenAIEmbeddings())\n",
    "\n",
    "retriever = vectorstore.as_retriever()"
   ]
  },
  {
   "cell_type": "code",
   "execution_count": 10,
   "metadata": {},
   "outputs": [
    {
     "data": {
      "text/plain": [
       "{'input': 'How can I get the current price of bitcoin?',\n",
       " 'context': [Document(metadata={'page': 30, 'source': 'BinanceUSDocs.pdf'}, page_content='# Example A, symbol param provided\\ncurl -X \"GET\" \"https://api.binance.us/api/v3/ticker/24hr?symbol=BNBBTC\"\\n# Example B, no symbol provided\\ncurl -X \"GET\" \"https://api.binance.us/api/v3/ticker/24hr\"\\nResponse A\\n{\\n  \"symbol\": \"BNBBTC\",\\n  \"priceChange\": \"-0.00046450\",\\n  \"priceChangePercent\": \"-4.659\",\\n  \"weightedAvgPrice\": \"0.00978390\",\\n  \"prevClosePrice\": \"0.00997050\",\\n  \"lastPrice\": \"0.00950520\",\\n  \"lastQty\": \"0.09000000\",\\n  \"bidPrice\": \"0.00950060\",\\n  \"bidQty\": \"0.25000000\",\\n  \"askPrice\": \"0.00950520\",\\n  \"askQty\": \"13.74000000\",\\n  \"openPrice\": \"0.00996970\",\\n  \"highPrice\": \"0.01012120\",\\n  \"lowPrice\": \"0.00950500\",\\n  \"volume\": \"7936.25000000\",\\n  \"quoteVolume\": \"77.64747556\",\\n  \"openTime\": 1637042984994,\\n  \"closeTime\": 1637129384994,\\n  \"firstId\": 1851686,\\n  \"lastId\": 1856703,\\n  \"count\": 5018\\n}\\nResponse B\\n[\\n  {\\n    \"symbol\": \"BTCUSD\",\\n    \"priceChange\": \"-1267.1100\",\\n    \"priceChangePercent\": \"-2.083\",\\n    \"weightedAvgPrice\": \"60099.2142\",\\n    \"prevClosePrice\": \"60842.0600\",'),\n",
       "  Document(metadata={'page': 28, 'source': 'BinanceUSDocs.pdf'}, page_content='Data Source: Memory\\nGET BEST ORDER BOOK PRICE\\nExample\\n# Example A, symbol param provided\\ncurl -X \"GET\" \"https://api.binance.us/api/v3/ticker/bookTicker?symbol=LTCBTC\"\\n# Example B, no symbol provided\\ncurl -X \"GET\" \"https://api.binance.us/api/v3/ticker/bookTicker\"8/5/24, 8:20 AM Introduction – Binance.US API Documentation\\nhttps://docs.binance.us/#introduction 29/219'),\n",
       "  Document(metadata={'page': 36, 'source': 'BinanceUSDocs.pdf'}, page_content='# Get HMAC SHA256 signature\\ntimestamp=`date +%s000`\\napi_key=<your_api_key>\\nsecret_key=<your_secret_key>\\napi_url=\"https://api.binance.us\"\\nsignature=`echo -n \"timestamp=$timestamp\" | openssl dgst -sha256 -hmac $secret_key`\\ncurl -X \"GET\" \"$api_url/sapi/v3/apiTradingStatus?timestamp=$timestamp&signature=$signature\" \\\\\\n     -H \"X-MBX-APIKEY: $api_key\"\\nResponse\\n{\\n    \"success\": true,     // Query result\\n    \"status\": {          // API trading status detail\\n        \"isLocked\": false,   // API trading function is locked or not\\n        \"plannedRecoverTime\": 0,  // If API trading function is locked, this is the planned recover time\\n        \"triggerCondition\": {\\n            \"GCR\": 150,  // Number of GTC orders\\n            \"IFER\": 150, // Number of FOK/IOC orders\\n            \"UFR\": 300   // Number of orders\\n        },\\n        \"indicators\": {  // The indicators updated every 30 seconds\\n           \"BTCUSDT\": [  // The symbol\\n            {\\n            \"i\": \"UFR\",  // Unfilled Ratio (UFR)'),\n",
       "  Document(metadata={'page': 56, 'source': 'BinanceUSDocs.pdf'}, page_content='api_key=<your_api_key>\\nsecret_key=<your_secret_key>\\napi_url=\"https://api.binance.us\"\\nsignature=`echo -n \"symbol=BNBBTC&timestamp=$timestamp\" | openssl dgst -sha256 -hmac $secret_key`\\ncurl -X \"GET\" \"$api_url/api/v3/myTrades?symbol=BNBBTC&timestamp=$timestamp&signature=$signature\" \\\\\\n     -H \"X-MBX-APIKEY: $api_key\"\\nResponse\\n[\\n  {\\n    \"symbol\": \"BNBBTC\",\\n    \"id\": 28457,\\n    \"orderId\": 100234,\\n    \"orderListId\": -1,\\n    \"price\": \"4.00000100\",\\n    \"qty\": \"12.00000000\",\\n    \"quoteQty\": \"48.000012\",\\n    \"commission\": \"10.10000000\",\\n    \"commissionAsset\": \"BNB\",\\n    \"time\": 1499865549590,\\n    \"isBuyer\": true,\\n    \"isMaker\": false,\\n    \"isBestMatch\": true8/5/24, 8:20 AM Introduction – Binance.US API Documentation\\nhttps://docs.binance.us/#introduction 57/219')],\n",
       " 'answer': 'You can get the current price of Bitcoin by making a GET request to the Binance.US API endpoint for the 24-hour ticker price change statistics. Use the following command:\\n\\n```sh\\ncurl -X \"GET\" \"https://api.binance.us/api/v3/ticker/24hr?symbol=BTCUSD\"\\n```\\n\\nThis will return the latest price details for Bitcoin in USD.'}"
      ]
     },
     "execution_count": 10,
     "metadata": {},
     "output_type": "execute_result"
    }
   ],
   "source": [
    "from langchain.chains import create_retrieval_chain\n",
    "from langchain.chains.combine_documents import create_stuff_documents_chain\n",
    "from langchain_core.prompts import ChatPromptTemplate\n",
    "\n",
    "system_prompt = (\n",
    "    \"You are an assistant for question-answering tasks. \"\n",
    "    \"Use the following pieces of retrieved context to answer \"\n",
    "    \"the question. If you don't know the answer, say that you \"\n",
    "    \"don't know. Use three sentences maximum and keep the \"\n",
    "    \"answer concise.\"\n",
    "    \"\\n\\n\"\n",
    "    \"{context}\"\n",
    ")\n",
    "\n",
    "prompt = ChatPromptTemplate.from_messages(\n",
    "    [\n",
    "        (\"system\", system_prompt),\n",
    "        (\"human\", \"{input}\"),\n",
    "    ]\n",
    ")\n",
    "\n",
    "\n",
    "question_answer_chain = create_stuff_documents_chain(llm, prompt)\n",
    "rag_chain = create_retrieval_chain(retriever, question_answer_chain)\n",
    "\n",
    "results = rag_chain.invoke({\"input\": \"How can I get the current price of bitcoin?\"})\n",
    "\n",
    "results"
   ]
  }
 ],
 "metadata": {
  "kernelspec": {
   "display_name": "bot-cSZXVkEz-py3.12",
   "language": "python",
   "name": "python3"
  },
  "language_info": {
   "codemirror_mode": {
    "name": "ipython",
    "version": 3
   },
   "file_extension": ".py",
   "mimetype": "text/x-python",
   "name": "python",
   "nbconvert_exporter": "python",
   "pygments_lexer": "ipython3",
   "version": "3.12.4"
  }
 },
 "nbformat": 4,
 "nbformat_minor": 2
}
